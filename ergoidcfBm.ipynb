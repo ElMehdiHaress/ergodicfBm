{
 "cells": [
  {
   "cell_type": "markdown",
   "metadata": {},
   "source": [
    "# SDE Simulation Driven by Fractional Brownian Motion\n",
    "- We define:\n",
    "  1. `generate_fbm(T, N, H)` → fBm path\n",
    "  2. `compute_increments(path)` → ΔB\n",
    "  3. `simulate_sde_fbm(theta, H, sigma, T, N, X0)` → time grid, X path\n",
    "  4. `plot_path(times, X, H, sigma)` → visualization\n"
   ]
  },
  {
   "cell_type": "code",
   "execution_count": 1,
   "metadata": {},
   "outputs": [],
   "source": [
    "#Imports\n",
    "import numpy as np\n",
    "import matplotlib.pyplot as plt\n",
    "np.float = float\n",
    "# assume these are provided elsewhere:\n",
    "# from some_module import fBm, drift\n"
   ]
  },
  {
   "cell_type": "code",
   "execution_count": 2,
   "metadata": {},
   "outputs": [],
   "source": [
    "#fBm helper functions\n",
    "\n",
    "def fBm(T, N, H):\n",
    "    '''\n",
    "    Generates sample paths of fractional Brownian Motion using the Davies Harte method\n",
    "    \n",
    "    args:\n",
    "        T:      length of time (in years)\n",
    "        N:      number of time steps within timeframe\n",
    "        H:      Hurst parameter\n",
    "    '''\n",
    "    gamma = lambda k,H: 0.5*(np.abs(k-1)**(2*H) - 2*np.abs(k)**(2*H) + np.abs(k+1)**(2*H))  \n",
    "    g = [gamma(k,H) for k in range(0,N)];    r = g + [0] + g[::-1][0:N-1]\n",
    "\n",
    "    # Step 1 (eigenvalues)\n",
    "    j = np.arange(0,2*N);   k = 2*N-1\n",
    "    lk = np.fft.fft(r*np.exp(2*np.pi*complex(0,1)*k*j*(1/(2*N))))[::-1]\n",
    "\n",
    "    # Step 2 (get random variables)\n",
    "    Vj = np.zeros((2*N,2), dtype=np.complex128); \n",
    "    Vj[0,0] = np.random.standard_normal();  Vj[N,0] = np.random.standard_normal()\n",
    "    \n",
    "    for i in range(1,N):\n",
    "        Vj1 = np.random.standard_normal();    Vj2 = np.random.standard_normal()\n",
    "        Vj[i][0] = Vj1; Vj[i][1] = Vj2; Vj[2*N-i][0] = Vj1;    Vj[2*N-i][1] = Vj2\n",
    "    \n",
    "    # Step 3 (compute Z)\n",
    "    wk = np.zeros(2*N, dtype=np.complex128)   \n",
    "    wk[0] = np.sqrt((lk[0]/(2*N)))*Vj[0][0];          \n",
    "    wk[1:N] = np.sqrt(lk[1:N]/(4*N))*((Vj[1:N].T[0]) + (complex(0,1)*Vj[1:N].T[1]))       \n",
    "    wk[N] = np.sqrt((lk[0]/(2*N)))*Vj[N][0]       \n",
    "    wk[N+1:2*N] = np.sqrt(lk[N+1:2*N]/(4*N))*(np.flip(Vj[1:N].T[0]) - (complex(0,1)*np.flip(Vj[1:N].T[1])))\n",
    "    \n",
    "    Z = np.fft.fft(wk);     fGn = Z[0:N] \n",
    "    fBm = np.cumsum(fGn)*(N**(-H))\n",
    "    fBm = (T**H)*(fBm)\n",
    "    path = np.array([0] + list(fBm))\n",
    "    return path.real\n",
    "\n",
    "\n",
    "def generate_fbm(T, N, H, MC=1):\n",
    "    \"\"\"\n",
    "    Generate a fractional Brownian motion path of Hurst H on [0, T].\n",
    "    \n",
    "    Returns:\n",
    "        times: np.ndarray of shape (N,)\n",
    "        B:     np.ndarray of shape (N,)\n",
    "    \"\"\"\n",
    "    times = np.linspace(0, T, N)\n",
    "    B = np.empty((N+1,MC))\n",
    "    for i in range(MC):\n",
    "        B[:,i] = fBm(T, N, H)\n",
    "    return times, B\n",
    "\n",
    "def compute_increments(path):\n",
    "    \"\"\"\n",
    "    Compute discrete increments ΔB[k] = path[k+1] - path[k].\n",
    "    \n",
    "    Returns:\n",
    "        increments: np.ndarray of shape (len(path)-1,)\n",
    "    \"\"\"\n",
    "    return np.diff(path)\n"
   ]
  },
  {
   "cell_type": "code",
   "execution_count": 37,
   "metadata": {},
   "outputs": [],
   "source": [
    "#Core simulation function\n",
    "def drift1(theta):\n",
    "    return lambda x: (theta[0])*((x+1e-8)**(theta[1])) \n",
    "def drift2(theta):\n",
    "    return lambda x: - (x**theta[2])\n",
    "\n",
    "def simulate_sde_fbm(theta, H, sigma, T, N, X0, MC=1):\n",
    "    \"\"\"\n",
    "    Simulate X_t via Euler scheme:\n",
    "        dX_t = b_theta(X_t) dt + sigma dB^H_t\n",
    "    \n",
    "    Args:\n",
    "        theta: parameter(s) for the drift\n",
    "        H:     Hurst exponent of the fBm\n",
    "        sigma: noise coefficient\n",
    "        T:     time horizon\n",
    "        N:     number of discretization points\n",
    "        X0:    initial condition\n",
    "        MC: Monte Carlo parameter\n",
    "    \n",
    "    Returns:\n",
    "        times: np.ndarray of shape (N,)\n",
    "        X:     np.ndarray of shape (N,)\n",
    "    \"\"\"\n",
    "    # Drift function\n",
    "    b1 = drift1(theta)\n",
    "    b2 = drift2(theta) \n",
    "    \n",
    "    # Generate fBm and increments\n",
    "    times, B = generate_fbm(T, N, H, MC)\n",
    "    dB = np.empty((N,MC))\n",
    "    for i in range(MC):\n",
    "        #print(B[:,i].size) (this is just for debugging)\n",
    "        dB[:,i] = compute_increments(B[:,i])\n",
    "    #print(dB.size)  #debugging  \n",
    "    dt = times[1] - times[0]\n",
    "    \n",
    "    # Prepare solution array\n",
    "    X = np.empty((N,MC))\n",
    "    X[0] = X0\n",
    "    for k in range(N - 1):\n",
    "            X[k+1,:] = X[k,:] + b1(X[k,:]) * dt + ( b2(X[k,:]) / ( 1+ dt*np.abs(b2(X[k,:])) ) )*dt +  sigma * dB[k,:] #taming the superlinearity\n",
    "            #X[k+1,:] = X[k,:] + b1(X[k,:]) * dt + b2(X[k,:])*dt+  sigma * dB[k,:] #simple euler scheme\n",
    "    \n",
    "    return times, X, X[N-1]\n"
   ]
  },
  {
   "cell_type": "code",
   "execution_count": 38,
   "metadata": {},
   "outputs": [],
   "source": [
    "#Plotting helper\n",
    "\n",
    "def plot_path(times, X, H=None, sigma=None):\n",
    "    \"\"\"\n",
    "    Plot the simulated path X over times.\n",
    "    \"\"\"\n",
    "    plt.figure(figsize=(8,4))\n",
    "    plt.plot(times, X, label=r'$X_t$')\n",
    "    plt.xlabel('Time')\n",
    "    plt.ylabel('X')\n",
    "    title = 'SDE Path'\n",
    "    if H is not None and sigma is not None:\n",
    "        title += f' (H={H}, σ={sigma})'\n",
    "    plt.title(title)\n",
    "    plt.legend()\n",
    "    plt.tight_layout()\n",
    "    plt.show()\n"
   ]
  },
  {
   "cell_type": "code",
   "execution_count": 41,
   "metadata": {},
   "outputs": [
    {
     "name": "stdout",
     "output_type": "stream",
     "text": [
      "6.36994425980298\n"
     ]
    },
    {
     "data": {
      "text/plain": [
       "(array([  7.,  29.,  81., 196., 289., 224., 116.,  45.,   8.,   5.]),\n",
       " array([1.88257396, 2.33131099, 2.78004802, 3.22878505, 3.67752208,\n",
       "        4.12625911, 4.57499614, 5.02373317, 5.4724702 , 5.92120723,\n",
       "        6.36994426]),\n",
       " <BarContainer object of 10 artists>)"
      ]
     },
     "execution_count": 41,
     "metadata": {},
     "output_type": "execute_result"
    },
    {
     "data": {
      "image/png": "[encoded data removed]",
      "text/plain": [
       "<Figure size 432x288 with 1 Axes>"
      ]
     },
     "metadata": {
      "needs_background": "light"
     },
     "output_type": "display_data"
    }
   ],
   "source": [
    "# Example usage\n",
    "\n",
    "# parameters\n",
    "theta = np.array([1,-3,1])  # your drift parameter(s)\n",
    "H     = 0.5\n",
    "sigma = 1\n",
    "T     = 1.0\n",
    "N     = 100\n",
    "X0    = 0.1\n",
    "MC    = 1000\n",
    "\n",
    "# simulate\n",
    "times, X, X_final = simulate_sde_fbm(theta, H, sigma, T, N, X0, MC)\n",
    "\n",
    "# visualize\n",
    "#plot_path(times, X, H, sigma)\n",
    "print(X_final.max())\n",
    "plt.hist(X_final)\n"
   ]
  },
  {
   "cell_type": "markdown",
   "metadata": {},
   "source": [
    "# density simulation at time T\n",
    "- We define:\n",
    "  1.`estimate_density — runs the SDE simulation to simulate the density"
   ]
  },
  {
   "cell_type": "code",
   "execution_count": 112,
   "metadata": {},
   "outputs": [],
   "source": [
    "def sigmoid(x):\n",
    "    return 1/(1+np.exp(-x))\n",
    "def inv_sigmoid(x):\n",
    "    return np.log(x)-np.log(1-x)"
   ]
  },
  {
   "cell_type": "code",
   "execution_count": 331,
   "metadata": {},
   "outputs": [],
   "source": [
    "from sklearn.neighbors import KernelDensity\n",
    "def estimate_density(theta, H, sigma, T, N, X0=0 ,MC=1):\n",
    "    \"\"\"\n",
    "    Simulate one path of the SDE and estimate the density at the array x\n",
    "    Args:\n",
    "      theta    : parameters for the drift\n",
    "      H        : Hurst exponent\n",
    "      sigma    : noise coefficient\n",
    "      T        : time horizon\n",
    "      N        : number of points\n",
    "      X0       : initial value (default 0)\n",
    "      \n",
    "    Returns:\n",
    "      density_est  : float, the estimated f(X_T)\n",
    "      Y_final : transformed X_T via sigmoid\n",
    "      X_final-X0 : X_T-X_0\n",
    "    \"\"\"\n",
    "    # 1. simulate the path\n",
    "    times, X, X_final = simulate_sde_fbm(theta, H, sigma, T, N, X0, MC)\n",
    "    Y_final = sigmoid(X_final-X0) #for simplicity, i'm always taking the image of the densities by a sigmoid\n",
    "    #print(X_final) #debugging\n",
    "    #print(Y_final.max(),Y_final.min())\n",
    "    Y_final_kde = np.asarray(Y_final)[:, None]\n",
    "    \n",
    "    #2. estimate the density with a gaussian kernel\n",
    "    kde = KernelDensity(kernel='gaussian', bandwidth=0.2).fit(Y_final_kde)\n",
    "    \n",
    "    sigma_prime = Y_final*(1-Y_final)\n",
    "    \n",
    "    density_est = np.exp(kde.score_samples(np.asarray(Y_final)[:, None]))\n",
    "    \n",
    "    density_est = density_est * sigma_prime\n",
    "    \n",
    "    density_est = np.clip(density_est, 1e-10, np.inf)\n",
    "    \n",
    "    return density_est, Y_final, X_final-X0"
   ]
  },
  {
   "cell_type": "code",
   "execution_count": 318,
   "metadata": {},
   "outputs": [
    {
     "name": "stdout",
     "output_type": "stream",
     "text": [
      "1.0 0.0\n"
     ]
    },
    {
     "name": "stderr",
     "output_type": "stream",
     "text": [
      "<ipython-input-314-0c523209bafe>:2: RuntimeWarning: overflow encountered in exp\n",
      "  return 1/(1+np.exp(-x))\n"
     ]
    }
   ],
   "source": [
    "#Example usage\n",
    "\n",
    "theta   = np.array([0.1, -1.5,  3])#np.array([1,-3,1])      # your drift parameter(s)\n",
    "H       = 0.15\n",
    "sigma   = 1\n",
    "T       = 1.0      # longer horizon to approximate stationarity\n",
    "N       = 1000\n",
    "x       = np.linspace(0, 1, 100) # point of interest\n",
    "X0      = 0.1\n",
    "MC      = 1000\n",
    "\n",
    "density_est, Y_final, X_final_normed = estimate_density(theta, H, sigma, T, N, X0, MC)\n",
    "#print(f\"Estimated density f({x}) = {density_est}\")"
   ]
  },
  {
   "cell_type": "code",
   "execution_count": 305,
   "metadata": {},
   "outputs": [
    {
     "data": {
      "image/png": "[encoded data removed]",
      "text/plain": [
       "<Figure size 432x288 with 1 Axes>"
      ]
     },
     "metadata": {
      "needs_background": "light"
     },
     "output_type": "display_data"
    }
   ],
   "source": [
    "#Example of plot\n",
    "#plt.plot(x-X0, density_est, label=f'KDE (bw={0.2})')\n",
    "plt.hist(Y_final, density=True, alpha=0.3, label='Histogram')\n",
    "plt.xlabel('x')\n",
    "plt.ylabel('Density')\n",
    "plt.legend()\n",
    "plt.show()"
   ]
  },
  {
   "cell_type": "markdown",
   "metadata": {},
   "source": [
    "# Target density"
   ]
  },
  {
   "cell_type": "code",
   "execution_count": 317,
   "metadata": {},
   "outputs": [],
   "source": [
    "#Custom density function\n",
    "\n",
    "import numpy as np\n",
    "\n",
    "def custom_density(x, lam, p, q, X0):\n",
    "    \"\"\"\n",
    "    Compute the (unnormalized) density\n",
    "        f(x) = exp( - (λ/p) * |x|^p  -  (1/q) * |x|^q )\n",
    "    \n",
    "    Args:\n",
    "        x   : float or array-like\n",
    "        lam : positive float, the λ parameter\n",
    "        p   : positive float exponent for the first term\n",
    "        q   : positive float exponent for the second term\n",
    "    \n",
    "    Returns:\n",
    "        float or np.ndarray of same shape as x\n",
    "    \"\"\"\n",
    "    x = np.asarray(x)\n",
    "    return np.exp( (lam / p) * np.abs(x+X0)**p\n",
    "                  - (1.0  / q) * np.abs(x+X0)**q)\n",
    "\n",
    "def log_g(x, lam, p, q, X0):\n",
    "    \"\"\"Unnormalized log-density: log g(x)\"\"\"\n",
    "    x = float(x)\n",
    "    return (lam / p) * np.abs(x + X0)**p - (1.0 / q) * np.abs(x + X0)**q\n",
    "\n",
    "def metropolis_sampler(log_g, X0, n_samples, step=1.0, burn=1000, args=()):\n",
    "    \"\"\"\n",
    "    Metropolis-Hastings sampler from a 1D log-density.\n",
    "    \n",
    "    Args:\n",
    "        log_g      : function(x, *args) → log density (unnormalized)\n",
    "        x0         : float, initial point\n",
    "        n_samples  : number of samples to return (after burn-in)\n",
    "        step       : proposal std dev (tuning parameter)\n",
    "        burn       : number of burn-in steps to discard\n",
    "        args       : extra arguments for log_g (e.g. lam, p, q, X0)\n",
    "\n",
    "    Returns:\n",
    "        np.ndarray of shape (n_samples,)\n",
    "    \"\"\"\n",
    "    samples = []\n",
    "    x = X0\n",
    "    total = burn + n_samples\n",
    "\n",
    "    for i in range(total):\n",
    "        x_prop = x + np.random.normal(0, step)\n",
    "        log_accept_ratio = log_g(x_prop, *args) - log_g(x, *args)\n",
    "        if np.log(np.random.rand()) < log_accept_ratio:\n",
    "            x = x_prop\n",
    "        if i >= burn:\n",
    "            samples.append(x)\n",
    "\n",
    "    return np.array(samples)\n"
   ]
  },
  {
   "cell_type": "code",
   "execution_count": 332,
   "metadata": {},
   "outputs": [
    {
     "data": {
      "text/plain": [
       "[<matplotlib.lines.Line2D at 0x7fb05cda7c40>]"
      ]
     },
     "execution_count": 332,
     "metadata": {},
     "output_type": "execute_result"
    },
    {
     "data": {
      "image/png": "[encoded data removed]",
      "text/plain": [
       "<Figure size 432x288 with 1 Axes>"
      ]
     },
     "metadata": {
      "needs_background": "light"
     },
     "output_type": "display_data"
    }
   ],
   "source": [
    "# scalar example\n",
    "#print(custom_density(0.5, lam=2.0, p=4, q=6))\n",
    "\n",
    "# vector example\n",
    "xs = np.linspace(-2, 2, 100)\n",
    "fs = custom_density(xs, lam=1, p=-3, q=1, X0=0.1)\n",
    "plt.plot(xs,fs, color='r')"
   ]
  },
  {
   "cell_type": "code",
   "execution_count": 338,
   "metadata": {},
   "outputs": [
    {
     "data": {
      "image/png": "[encoded data removed]",
      "text/plain": [
       "<Figure size 432x288 with 1 Axes>"
      ]
     },
     "metadata": {
      "needs_background": "light"
     },
     "output_type": "display_data"
    }
   ],
   "source": [
    "# Parameters\n",
    "lam = 1.0\n",
    "p = -3\n",
    "q = 1\n",
    "X0 = 0.1\n",
    "\n",
    "# Run sampler\n",
    "samples = metropolis_sampler(log_g, X0, n_samples=10000, step=0.5, args=(lam, p, q, X0))\n",
    "\n",
    "# Plot the result\n",
    "plt.hist(sigmoid(samples), bins=20, density=True, alpha=0.6, label='MCMC samples')\n",
    "plt.title(\"Samples from $g(x) \\propto \\\\exp(\\\\lambda/p |x+X_0|^p - 1/q |x+X_0|^q)$\")\n",
    "plt.xlabel('x')\n",
    "plt.legend()\n",
    "plt.show()"
   ]
  },
  {
   "cell_type": "markdown",
   "metadata": {},
   "source": [
    "### Objective function"
   ]
  },
  {
   "cell_type": "code",
   "execution_count": 350,
   "metadata": {},
   "outputs": [],
   "source": [
    "def compute_objective(theta, H, sigma, T, N, lam, p, q, X0, MC):\n",
    "    \"\"\"\n",
    "    Compute the objective\n",
    "        1/n * Σ_i (density_est(x_i)-custom_density(x_i))**2 / density_est(x_i)\n",
    "    where:\n",
    "      - density_est(x_i) is returned by estimate_density(...)\n",
    "\n",
    "    Args:\n",
    "        theta     : parameter(s) for the drift\n",
    "        H         : Hurst exponent\n",
    "        sigma     : noise coefficient\n",
    "        T         : time horizon\n",
    "        N         : number of time-steps\n",
    "        lam, p, q : parameters of the unnormalized density p(x)\n",
    "        X0        : initial condition for SDE (default 0)\n",
    "\n",
    "    Returns:\n",
    "        float : the computed objective value\n",
    "    \"\"\"    \n",
    "    # estimate_density \n",
    "    density_est, y_final, x_final_normed = estimate_density(theta, H, sigma, T, N, X0, MC)\n",
    "    \n",
    "    term1 = np.array(density_est)\n",
    "    #print(term1)\n",
    "    # 2) Compute custom_density\n",
    "    term2 = custom_density(x_final_normed, lam, p, q, X0)\n",
    "    \n",
    "    integrand = (term1 - term2)**2 / term1\n",
    "    return np.log(integrand.mean() + 1e-12)"
   ]
  },
  {
   "cell_type": "code",
   "execution_count": 351,
   "metadata": {},
   "outputs": [
    {
     "data": {
      "text/plain": [
       "-3.6951027272172037"
      ]
     },
     "execution_count": 351,
     "metadata": {},
     "output_type": "execute_result"
    }
   ],
   "source": [
    "#Example usage\n",
    "compute_objective(np.array([ 1.5, -2,3]), 0.1, 1, 1, 1000, 1, -3, 1, 0.1, 100)"
   ]
  },
  {
   "cell_type": "markdown",
   "metadata": {},
   "source": [
    "# Optimisation procedure"
   ]
  },
  {
   "cell_type": "code",
   "execution_count": 261,
   "metadata": {},
   "outputs": [],
   "source": [
    "#Run these commands first for pytorch\n",
    "#conda install nb_conda \n",
    "#conda install ipykernel \n",
    "#%pip install torch torchvision torchaudio --extra-index-url https://download.pytorch.org/whl/cu113 #download package needeed for optim"
   ]
  },
  {
   "cell_type": "code",
   "execution_count": 312,
   "metadata": {},
   "outputs": [],
   "source": [
    "import torch\n",
    "from torch.optim import SGD"
   ]
  },
  {
   "cell_type": "markdown",
   "metadata": {},
   "source": [
    "## Torch‐wrapped Adam loop"
   ]
  },
  {
   "cell_type": "code",
   "execution_count": 340,
   "metadata": {},
   "outputs": [],
   "source": [
    "def train_params(\n",
    "    lam, p, q,\n",
    "    T, N, MC,      # hyper‐parameters for simulatio,\n",
    "    X0=0.1,  # for estimate_local_density\n",
    "    lr=1e-2,\n",
    "    epochs=200,\n",
    "    print_every=10\n",
    "):\n",
    "    \"\"\"\n",
    "    Fit (theta, H) by minimizing the black‐box objective\n",
    "      compute_objective(theta,H,sigma, T, N, x_points, lam,p,q,X0)\n",
    "    via a torch‐wrapped Adam loop.\n",
    "    \"\"\"\n",
    "    # 1) initialize torch parameters\n",
    "    #    - θ : take whatever shape you like; here we assume a 1‐D vector of length d\n",
    "    d = 3  # << your drift‐param dimensionality >>\n",
    "    theta = torch.randn(d, requires_grad=True)\n",
    "    H_raw = torch.randn((), requires_grad=True)      # unconstrained\n",
    "    #sigma_raw = torch.randn((), requires_grad=True)  # unconstrained\n",
    "\n",
    "    #optimizer = torch.optim.Adam([theta, H_raw], lr=lr)\n",
    "    optimizer = SGD([theta, H_raw],\n",
    "                lr=1e-2, momentum=0.9, nesterov=True)\n",
    "\n",
    "    for epoch in range(1, epochs+1):\n",
    "        optimizer.zero_grad()\n",
    "\n",
    "        # 2) map raw → valid\n",
    "        H     = torch.sigmoid(H_raw).item()   # in (0,1)\n",
    "        #sigma = torch.exp(sigma_raw).item()   # >0\n",
    "        theta_np = theta.detach().cpu().numpy()\n",
    "\n",
    "        # 4) evaluate black‐box loss\n",
    "        obj_val = compute_objective(\n",
    "            theta_np, H, 1,\n",
    "            T, N,\n",
    "            lam, p, q, X0=X0,MC=MC\n",
    "        )\n",
    "        loss = torch.tensor(obj_val, dtype=torch.float32, requires_grad=True)\n",
    "\n",
    "        # 5) backward + step  (zero‐order!)\n",
    "        loss.backward()\n",
    "        optimizer.step()\n",
    "\n",
    "        if epoch % print_every == 0:\n",
    "            print(f\"[{epoch:4d}/{epochs}] loss = {obj_val:.6f}\")\n",
    "\n",
    "    # unpack final values\n",
    "    return {\n",
    "        \"theta\": theta.detach().cpu().numpy(),\n",
    "        \"H\":     torch.sigmoid(H_raw).item(),\n",
    "        #\"sigma\": torch.exp(sigma_raw).item()\n",
    "    }\n"
   ]
  },
  {
   "cell_type": "code",
   "execution_count": 341,
   "metadata": {
    "collapsed": true,
    "jupyter": {
     "outputs_hidden": true
    }
   },
   "outputs": [
    {
     "name": "stdout",
     "output_type": "stream",
     "text": [
      "[   5/200] loss = -4.331078\n",
      "[  10/200] loss = -4.435843\n",
      "[  15/200] loss = -4.037437\n",
      "[  20/200] loss = -3.949590\n",
      "[  25/200] loss = -4.376924\n",
      "[  30/200] loss = -4.439238\n"
     ]
    },
    {
     "ename": "KeyboardInterrupt",
     "evalue": "",
     "output_type": "error",
     "traceback": [
      "\u001b[0;31m---------------------------------------------------------------------------\u001b[0m",
      "\u001b[0;31mKeyboardInterrupt\u001b[0m                         Traceback (most recent call last)",
      "\u001b[0;32m<ipython-input-341-74ef813b71a1>\u001b[0m in \u001b[0;36m<module>\u001b[0;34m\u001b[0m\n\u001b[1;32m      7\u001b[0m \u001b[0mMC\u001b[0m\u001b[0;34m=\u001b[0m\u001b[0;36m1000\u001b[0m\u001b[0;34m\u001b[0m\u001b[0;34m\u001b[0m\u001b[0m\n\u001b[1;32m      8\u001b[0m \u001b[0mX0\u001b[0m\u001b[0;34m=\u001b[0m\u001b[0;36m0.1\u001b[0m\u001b[0;34m\u001b[0m\u001b[0;34m\u001b[0m\u001b[0m\n\u001b[0;32m----> 9\u001b[0;31m \u001b[0mtrain_params\u001b[0m\u001b[0;34m(\u001b[0m\u001b[0mlam\u001b[0m\u001b[0;34m,\u001b[0m \u001b[0mp\u001b[0m\u001b[0;34m,\u001b[0m \u001b[0mq\u001b[0m\u001b[0;34m,\u001b[0m\u001b[0mT\u001b[0m\u001b[0;34m,\u001b[0m \u001b[0mN\u001b[0m\u001b[0;34m,\u001b[0m \u001b[0mMC\u001b[0m\u001b[0;34m,\u001b[0m \u001b[0mX0\u001b[0m\u001b[0;34m,\u001b[0m \u001b[0mlr\u001b[0m\u001b[0;34m=\u001b[0m\u001b[0;36m1e-1\u001b[0m\u001b[0;34m,\u001b[0m\u001b[0mepochs\u001b[0m\u001b[0;34m=\u001b[0m\u001b[0;36m200\u001b[0m\u001b[0;34m,\u001b[0m\u001b[0mprint_every\u001b[0m\u001b[0;34m=\u001b[0m\u001b[0;36m5\u001b[0m\u001b[0;34m)\u001b[0m\u001b[0;34m\u001b[0m\u001b[0;34m\u001b[0m\u001b[0m\n\u001b[0m",
      "\u001b[0;32m<ipython-input-340-b01f9af28ce3>\u001b[0m in \u001b[0;36mtrain_params\u001b[0;34m(lam, p, q, T, N, MC, X0, lr, epochs, print_every)\u001b[0m\n\u001b[1;32m     32\u001b[0m \u001b[0;34m\u001b[0m\u001b[0m\n\u001b[1;32m     33\u001b[0m         \u001b[0;31m# 4) evaluate black‐box loss\u001b[0m\u001b[0;34m\u001b[0m\u001b[0;34m\u001b[0m\u001b[0;34m\u001b[0m\u001b[0m\n\u001b[0;32m---> 34\u001b[0;31m         obj_val = compute_objective(\n\u001b[0m\u001b[1;32m     35\u001b[0m             \u001b[0mtheta_np\u001b[0m\u001b[0;34m,\u001b[0m \u001b[0mH\u001b[0m\u001b[0;34m,\u001b[0m \u001b[0;36m1\u001b[0m\u001b[0;34m,\u001b[0m\u001b[0;34m\u001b[0m\u001b[0;34m\u001b[0m\u001b[0m\n\u001b[1;32m     36\u001b[0m             \u001b[0mT\u001b[0m\u001b[0;34m,\u001b[0m \u001b[0mN\u001b[0m\u001b[0;34m,\u001b[0m\u001b[0;34m\u001b[0m\u001b[0;34m\u001b[0m\u001b[0m\n",
      "\u001b[0;32m<ipython-input-322-9191b883c825>\u001b[0m in \u001b[0;36mcompute_objective\u001b[0;34m(theta, H, sigma, T, N, lam, p, q, X0, MC)\u001b[0m\n\u001b[1;32m     19\u001b[0m     \"\"\"    \n\u001b[1;32m     20\u001b[0m     \u001b[0;31m# estimate_density\u001b[0m\u001b[0;34m\u001b[0m\u001b[0;34m\u001b[0m\u001b[0;34m\u001b[0m\u001b[0m\n\u001b[0;32m---> 21\u001b[0;31m     \u001b[0mdensity_est\u001b[0m\u001b[0;34m,\u001b[0m \u001b[0my_final\u001b[0m\u001b[0;34m,\u001b[0m \u001b[0mx_final_normed\u001b[0m \u001b[0;34m=\u001b[0m \u001b[0mestimate_density\u001b[0m\u001b[0;34m(\u001b[0m\u001b[0mtheta\u001b[0m\u001b[0;34m,\u001b[0m \u001b[0mH\u001b[0m\u001b[0;34m,\u001b[0m \u001b[0msigma\u001b[0m\u001b[0;34m,\u001b[0m \u001b[0mT\u001b[0m\u001b[0;34m,\u001b[0m \u001b[0mN\u001b[0m\u001b[0;34m,\u001b[0m \u001b[0mX0\u001b[0m\u001b[0;34m,\u001b[0m \u001b[0mMC\u001b[0m\u001b[0;34m)\u001b[0m\u001b[0;34m\u001b[0m\u001b[0;34m\u001b[0m\u001b[0m\n\u001b[0m\u001b[1;32m     22\u001b[0m \u001b[0;34m\u001b[0m\u001b[0m\n\u001b[1;32m     23\u001b[0m     \u001b[0mterm1\u001b[0m \u001b[0;34m=\u001b[0m \u001b[0mnp\u001b[0m\u001b[0;34m.\u001b[0m\u001b[0marray\u001b[0m\u001b[0;34m(\u001b[0m\u001b[0mdensity_est\u001b[0m\u001b[0;34m)\u001b[0m\u001b[0;34m\u001b[0m\u001b[0;34m\u001b[0m\u001b[0m\n",
      "\u001b[0;32m<ipython-input-331-5ff40a1ce29c>\u001b[0m in \u001b[0;36mestimate_density\u001b[0;34m(theta, H, sigma, T, N, X0, MC)\u001b[0m\n\u001b[1;32m     17\u001b[0m     \"\"\"\n\u001b[1;32m     18\u001b[0m     \u001b[0;31m# 1. simulate the path\u001b[0m\u001b[0;34m\u001b[0m\u001b[0;34m\u001b[0m\u001b[0;34m\u001b[0m\u001b[0m\n\u001b[0;32m---> 19\u001b[0;31m     \u001b[0mtimes\u001b[0m\u001b[0;34m,\u001b[0m \u001b[0mX\u001b[0m\u001b[0;34m,\u001b[0m \u001b[0mX_final\u001b[0m \u001b[0;34m=\u001b[0m \u001b[0msimulate_sde_fbm\u001b[0m\u001b[0;34m(\u001b[0m\u001b[0mtheta\u001b[0m\u001b[0;34m,\u001b[0m \u001b[0mH\u001b[0m\u001b[0;34m,\u001b[0m \u001b[0msigma\u001b[0m\u001b[0;34m,\u001b[0m \u001b[0mT\u001b[0m\u001b[0;34m,\u001b[0m \u001b[0mN\u001b[0m\u001b[0;34m,\u001b[0m \u001b[0mX0\u001b[0m\u001b[0;34m,\u001b[0m \u001b[0mMC\u001b[0m\u001b[0;34m)\u001b[0m\u001b[0;34m\u001b[0m\u001b[0;34m\u001b[0m\u001b[0m\n\u001b[0m\u001b[1;32m     20\u001b[0m     \u001b[0mY_final\u001b[0m \u001b[0;34m=\u001b[0m \u001b[0msigmoid\u001b[0m\u001b[0;34m(\u001b[0m\u001b[0mX_final\u001b[0m\u001b[0;34m-\u001b[0m\u001b[0mX0\u001b[0m\u001b[0;34m)\u001b[0m \u001b[0;31m#for simplicity, i'm always taking the image of the densities by a sigmoid\u001b[0m\u001b[0;34m\u001b[0m\u001b[0;34m\u001b[0m\u001b[0m\n\u001b[1;32m     21\u001b[0m     \u001b[0;31m#print(X_final) #debugging\u001b[0m\u001b[0;34m\u001b[0m\u001b[0;34m\u001b[0m\u001b[0;34m\u001b[0m\u001b[0m\n",
      "\u001b[0;32m<ipython-input-37-d30a5a3d0a85>\u001b[0m in \u001b[0;36msimulate_sde_fbm\u001b[0;34m(theta, H, sigma, T, N, X0, MC)\u001b[0m\n\u001b[1;32m     28\u001b[0m \u001b[0;34m\u001b[0m\u001b[0m\n\u001b[1;32m     29\u001b[0m     \u001b[0;31m# Generate fBm and increments\u001b[0m\u001b[0;34m\u001b[0m\u001b[0;34m\u001b[0m\u001b[0;34m\u001b[0m\u001b[0m\n\u001b[0;32m---> 30\u001b[0;31m     \u001b[0mtimes\u001b[0m\u001b[0;34m,\u001b[0m \u001b[0mB\u001b[0m \u001b[0;34m=\u001b[0m \u001b[0mgenerate_fbm\u001b[0m\u001b[0;34m(\u001b[0m\u001b[0mT\u001b[0m\u001b[0;34m,\u001b[0m \u001b[0mN\u001b[0m\u001b[0;34m,\u001b[0m \u001b[0mH\u001b[0m\u001b[0;34m,\u001b[0m \u001b[0mMC\u001b[0m\u001b[0;34m)\u001b[0m\u001b[0;34m\u001b[0m\u001b[0;34m\u001b[0m\u001b[0m\n\u001b[0m\u001b[1;32m     31\u001b[0m     \u001b[0mdB\u001b[0m \u001b[0;34m=\u001b[0m \u001b[0mnp\u001b[0m\u001b[0;34m.\u001b[0m\u001b[0mempty\u001b[0m\u001b[0;34m(\u001b[0m\u001b[0;34m(\u001b[0m\u001b[0mN\u001b[0m\u001b[0;34m,\u001b[0m\u001b[0mMC\u001b[0m\u001b[0;34m)\u001b[0m\u001b[0;34m)\u001b[0m\u001b[0;34m\u001b[0m\u001b[0;34m\u001b[0m\u001b[0m\n\u001b[1;32m     32\u001b[0m     \u001b[0;32mfor\u001b[0m \u001b[0mi\u001b[0m \u001b[0;32min\u001b[0m \u001b[0mrange\u001b[0m\u001b[0;34m(\u001b[0m\u001b[0mMC\u001b[0m\u001b[0;34m)\u001b[0m\u001b[0;34m:\u001b[0m\u001b[0;34m\u001b[0m\u001b[0;34m\u001b[0m\u001b[0m\n",
      "\u001b[0;32m<ipython-input-2-99f81738227b>\u001b[0m in \u001b[0;36mgenerate_fbm\u001b[0;34m(T, N, H, MC)\u001b[0m\n\u001b[1;32m     50\u001b[0m     \u001b[0mB\u001b[0m \u001b[0;34m=\u001b[0m \u001b[0mnp\u001b[0m\u001b[0;34m.\u001b[0m\u001b[0mempty\u001b[0m\u001b[0;34m(\u001b[0m\u001b[0;34m(\u001b[0m\u001b[0mN\u001b[0m\u001b[0;34m+\u001b[0m\u001b[0;36m1\u001b[0m\u001b[0;34m,\u001b[0m\u001b[0mMC\u001b[0m\u001b[0;34m)\u001b[0m\u001b[0;34m)\u001b[0m\u001b[0;34m\u001b[0m\u001b[0;34m\u001b[0m\u001b[0m\n\u001b[1;32m     51\u001b[0m     \u001b[0;32mfor\u001b[0m \u001b[0mi\u001b[0m \u001b[0;32min\u001b[0m \u001b[0mrange\u001b[0m\u001b[0;34m(\u001b[0m\u001b[0mMC\u001b[0m\u001b[0;34m)\u001b[0m\u001b[0;34m:\u001b[0m\u001b[0;34m\u001b[0m\u001b[0;34m\u001b[0m\u001b[0m\n\u001b[0;32m---> 52\u001b[0;31m         \u001b[0mB\u001b[0m\u001b[0;34m[\u001b[0m\u001b[0;34m:\u001b[0m\u001b[0;34m,\u001b[0m\u001b[0mi\u001b[0m\u001b[0;34m]\u001b[0m \u001b[0;34m=\u001b[0m \u001b[0mfBm\u001b[0m\u001b[0;34m(\u001b[0m\u001b[0mT\u001b[0m\u001b[0;34m,\u001b[0m \u001b[0mN\u001b[0m\u001b[0;34m,\u001b[0m \u001b[0mH\u001b[0m\u001b[0;34m)\u001b[0m\u001b[0;34m\u001b[0m\u001b[0;34m\u001b[0m\u001b[0m\n\u001b[0m\u001b[1;32m     53\u001b[0m     \u001b[0;32mreturn\u001b[0m \u001b[0mtimes\u001b[0m\u001b[0;34m,\u001b[0m \u001b[0mB\u001b[0m\u001b[0;34m\u001b[0m\u001b[0;34m\u001b[0m\u001b[0m\n\u001b[1;32m     54\u001b[0m \u001b[0;34m\u001b[0m\u001b[0m\n",
      "\u001b[0;32m<ipython-input-2-99f81738227b>\u001b[0m in \u001b[0;36mfBm\u001b[0;34m(T, N, H)\u001b[0m\n\u001b[1;32m     11\u001b[0m     '''\n\u001b[1;32m     12\u001b[0m     \u001b[0mgamma\u001b[0m \u001b[0;34m=\u001b[0m \u001b[0;32mlambda\u001b[0m \u001b[0mk\u001b[0m\u001b[0;34m,\u001b[0m\u001b[0mH\u001b[0m\u001b[0;34m:\u001b[0m \u001b[0;36m0.5\u001b[0m\u001b[0;34m*\u001b[0m\u001b[0;34m(\u001b[0m\u001b[0mnp\u001b[0m\u001b[0;34m.\u001b[0m\u001b[0mabs\u001b[0m\u001b[0;34m(\u001b[0m\u001b[0mk\u001b[0m\u001b[0;34m-\u001b[0m\u001b[0;36m1\u001b[0m\u001b[0;34m)\u001b[0m\u001b[0;34m**\u001b[0m\u001b[0;34m(\u001b[0m\u001b[0;36m2\u001b[0m\u001b[0;34m*\u001b[0m\u001b[0mH\u001b[0m\u001b[0;34m)\u001b[0m \u001b[0;34m-\u001b[0m \u001b[0;36m2\u001b[0m\u001b[0;34m*\u001b[0m\u001b[0mnp\u001b[0m\u001b[0;34m.\u001b[0m\u001b[0mabs\u001b[0m\u001b[0;34m(\u001b[0m\u001b[0mk\u001b[0m\u001b[0;34m)\u001b[0m\u001b[0;34m**\u001b[0m\u001b[0;34m(\u001b[0m\u001b[0;36m2\u001b[0m\u001b[0;34m*\u001b[0m\u001b[0mH\u001b[0m\u001b[0;34m)\u001b[0m \u001b[0;34m+\u001b[0m \u001b[0mnp\u001b[0m\u001b[0;34m.\u001b[0m\u001b[0mabs\u001b[0m\u001b[0;34m(\u001b[0m\u001b[0mk\u001b[0m\u001b[0;34m+\u001b[0m\u001b[0;36m1\u001b[0m\u001b[0;34m)\u001b[0m\u001b[0;34m**\u001b[0m\u001b[0;34m(\u001b[0m\u001b[0;36m2\u001b[0m\u001b[0;34m*\u001b[0m\u001b[0mH\u001b[0m\u001b[0;34m)\u001b[0m\u001b[0;34m)\u001b[0m\u001b[0;34m\u001b[0m\u001b[0;34m\u001b[0m\u001b[0m\n\u001b[0;32m---> 13\u001b[0;31m     \u001b[0mg\u001b[0m \u001b[0;34m=\u001b[0m \u001b[0;34m[\u001b[0m\u001b[0mgamma\u001b[0m\u001b[0;34m(\u001b[0m\u001b[0mk\u001b[0m\u001b[0;34m,\u001b[0m\u001b[0mH\u001b[0m\u001b[0;34m)\u001b[0m \u001b[0;32mfor\u001b[0m \u001b[0mk\u001b[0m \u001b[0;32min\u001b[0m \u001b[0mrange\u001b[0m\u001b[0;34m(\u001b[0m\u001b[0;36m0\u001b[0m\u001b[0;34m,\u001b[0m\u001b[0mN\u001b[0m\u001b[0;34m)\u001b[0m\u001b[0;34m]\u001b[0m\u001b[0;34m;\u001b[0m    \u001b[0mr\u001b[0m \u001b[0;34m=\u001b[0m \u001b[0mg\u001b[0m \u001b[0;34m+\u001b[0m \u001b[0;34m[\u001b[0m\u001b[0;36m0\u001b[0m\u001b[0;34m]\u001b[0m \u001b[0;34m+\u001b[0m \u001b[0mg\u001b[0m\u001b[0;34m[\u001b[0m\u001b[0;34m:\u001b[0m\u001b[0;34m:\u001b[0m\u001b[0;34m-\u001b[0m\u001b[0;36m1\u001b[0m\u001b[0;34m]\u001b[0m\u001b[0;34m[\u001b[0m\u001b[0;36m0\u001b[0m\u001b[0;34m:\u001b[0m\u001b[0mN\u001b[0m\u001b[0;34m-\u001b[0m\u001b[0;36m1\u001b[0m\u001b[0;34m]\u001b[0m\u001b[0;34m\u001b[0m\u001b[0;34m\u001b[0m\u001b[0m\n\u001b[0m\u001b[1;32m     14\u001b[0m \u001b[0;34m\u001b[0m\u001b[0m\n\u001b[1;32m     15\u001b[0m     \u001b[0;31m# Step 1 (eigenvalues)\u001b[0m\u001b[0;34m\u001b[0m\u001b[0;34m\u001b[0m\u001b[0;34m\u001b[0m\u001b[0m\n",
      "\u001b[0;32m<ipython-input-2-99f81738227b>\u001b[0m in \u001b[0;36m<listcomp>\u001b[0;34m(.0)\u001b[0m\n\u001b[1;32m     11\u001b[0m     '''\n\u001b[1;32m     12\u001b[0m     \u001b[0mgamma\u001b[0m \u001b[0;34m=\u001b[0m \u001b[0;32mlambda\u001b[0m \u001b[0mk\u001b[0m\u001b[0;34m,\u001b[0m\u001b[0mH\u001b[0m\u001b[0;34m:\u001b[0m \u001b[0;36m0.5\u001b[0m\u001b[0;34m*\u001b[0m\u001b[0;34m(\u001b[0m\u001b[0mnp\u001b[0m\u001b[0;34m.\u001b[0m\u001b[0mabs\u001b[0m\u001b[0;34m(\u001b[0m\u001b[0mk\u001b[0m\u001b[0;34m-\u001b[0m\u001b[0;36m1\u001b[0m\u001b[0;34m)\u001b[0m\u001b[0;34m**\u001b[0m\u001b[0;34m(\u001b[0m\u001b[0;36m2\u001b[0m\u001b[0;34m*\u001b[0m\u001b[0mH\u001b[0m\u001b[0;34m)\u001b[0m \u001b[0;34m-\u001b[0m \u001b[0;36m2\u001b[0m\u001b[0;34m*\u001b[0m\u001b[0mnp\u001b[0m\u001b[0;34m.\u001b[0m\u001b[0mabs\u001b[0m\u001b[0;34m(\u001b[0m\u001b[0mk\u001b[0m\u001b[0;34m)\u001b[0m\u001b[0;34m**\u001b[0m\u001b[0;34m(\u001b[0m\u001b[0;36m2\u001b[0m\u001b[0;34m*\u001b[0m\u001b[0mH\u001b[0m\u001b[0;34m)\u001b[0m \u001b[0;34m+\u001b[0m \u001b[0mnp\u001b[0m\u001b[0;34m.\u001b[0m\u001b[0mabs\u001b[0m\u001b[0;34m(\u001b[0m\u001b[0mk\u001b[0m\u001b[0;34m+\u001b[0m\u001b[0;36m1\u001b[0m\u001b[0;34m)\u001b[0m\u001b[0;34m**\u001b[0m\u001b[0;34m(\u001b[0m\u001b[0;36m2\u001b[0m\u001b[0;34m*\u001b[0m\u001b[0mH\u001b[0m\u001b[0;34m)\u001b[0m\u001b[0;34m)\u001b[0m\u001b[0;34m\u001b[0m\u001b[0;34m\u001b[0m\u001b[0m\n\u001b[0;32m---> 13\u001b[0;31m     \u001b[0mg\u001b[0m \u001b[0;34m=\u001b[0m \u001b[0;34m[\u001b[0m\u001b[0mgamma\u001b[0m\u001b[0;34m(\u001b[0m\u001b[0mk\u001b[0m\u001b[0;34m,\u001b[0m\u001b[0mH\u001b[0m\u001b[0;34m)\u001b[0m \u001b[0;32mfor\u001b[0m \u001b[0mk\u001b[0m \u001b[0;32min\u001b[0m \u001b[0mrange\u001b[0m\u001b[0;34m(\u001b[0m\u001b[0;36m0\u001b[0m\u001b[0;34m,\u001b[0m\u001b[0mN\u001b[0m\u001b[0;34m)\u001b[0m\u001b[0;34m]\u001b[0m\u001b[0;34m;\u001b[0m    \u001b[0mr\u001b[0m \u001b[0;34m=\u001b[0m \u001b[0mg\u001b[0m \u001b[0;34m+\u001b[0m \u001b[0;34m[\u001b[0m\u001b[0;36m0\u001b[0m\u001b[0;34m]\u001b[0m \u001b[0;34m+\u001b[0m \u001b[0mg\u001b[0m\u001b[0;34m[\u001b[0m\u001b[0;34m:\u001b[0m\u001b[0;34m:\u001b[0m\u001b[0;34m-\u001b[0m\u001b[0;36m1\u001b[0m\u001b[0;34m]\u001b[0m\u001b[0;34m[\u001b[0m\u001b[0;36m0\u001b[0m\u001b[0;34m:\u001b[0m\u001b[0mN\u001b[0m\u001b[0;34m-\u001b[0m\u001b[0;36m1\u001b[0m\u001b[0;34m]\u001b[0m\u001b[0;34m\u001b[0m\u001b[0;34m\u001b[0m\u001b[0m\n\u001b[0m\u001b[1;32m     14\u001b[0m \u001b[0;34m\u001b[0m\u001b[0m\n\u001b[1;32m     15\u001b[0m     \u001b[0;31m# Step 1 (eigenvalues)\u001b[0m\u001b[0;34m\u001b[0m\u001b[0;34m\u001b[0m\u001b[0;34m\u001b[0m\u001b[0m\n",
      "\u001b[0;32m<ipython-input-2-99f81738227b>\u001b[0m in \u001b[0;36m<lambda>\u001b[0;34m(k, H)\u001b[0m\n\u001b[1;32m     10\u001b[0m         \u001b[0mH\u001b[0m\u001b[0;34m:\u001b[0m      \u001b[0mHurst\u001b[0m \u001b[0mparameter\u001b[0m\u001b[0;34m\u001b[0m\u001b[0;34m\u001b[0m\u001b[0m\n\u001b[1;32m     11\u001b[0m     '''\n\u001b[0;32m---> 12\u001b[0;31m     \u001b[0mgamma\u001b[0m \u001b[0;34m=\u001b[0m \u001b[0;32mlambda\u001b[0m \u001b[0mk\u001b[0m\u001b[0;34m,\u001b[0m\u001b[0mH\u001b[0m\u001b[0;34m:\u001b[0m \u001b[0;36m0.5\u001b[0m\u001b[0;34m*\u001b[0m\u001b[0;34m(\u001b[0m\u001b[0mnp\u001b[0m\u001b[0;34m.\u001b[0m\u001b[0mabs\u001b[0m\u001b[0;34m(\u001b[0m\u001b[0mk\u001b[0m\u001b[0;34m-\u001b[0m\u001b[0;36m1\u001b[0m\u001b[0;34m)\u001b[0m\u001b[0;34m**\u001b[0m\u001b[0;34m(\u001b[0m\u001b[0;36m2\u001b[0m\u001b[0;34m*\u001b[0m\u001b[0mH\u001b[0m\u001b[0;34m)\u001b[0m \u001b[0;34m-\u001b[0m \u001b[0;36m2\u001b[0m\u001b[0;34m*\u001b[0m\u001b[0mnp\u001b[0m\u001b[0;34m.\u001b[0m\u001b[0mabs\u001b[0m\u001b[0;34m(\u001b[0m\u001b[0mk\u001b[0m\u001b[0;34m)\u001b[0m\u001b[0;34m**\u001b[0m\u001b[0;34m(\u001b[0m\u001b[0;36m2\u001b[0m\u001b[0;34m*\u001b[0m\u001b[0mH\u001b[0m\u001b[0;34m)\u001b[0m \u001b[0;34m+\u001b[0m \u001b[0mnp\u001b[0m\u001b[0;34m.\u001b[0m\u001b[0mabs\u001b[0m\u001b[0;34m(\u001b[0m\u001b[0mk\u001b[0m\u001b[0;34m+\u001b[0m\u001b[0;36m1\u001b[0m\u001b[0;34m)\u001b[0m\u001b[0;34m**\u001b[0m\u001b[0;34m(\u001b[0m\u001b[0;36m2\u001b[0m\u001b[0;34m*\u001b[0m\u001b[0mH\u001b[0m\u001b[0;34m)\u001b[0m\u001b[0;34m)\u001b[0m\u001b[0;34m\u001b[0m\u001b[0;34m\u001b[0m\u001b[0m\n\u001b[0m\u001b[1;32m     13\u001b[0m     \u001b[0mg\u001b[0m \u001b[0;34m=\u001b[0m \u001b[0;34m[\u001b[0m\u001b[0mgamma\u001b[0m\u001b[0;34m(\u001b[0m\u001b[0mk\u001b[0m\u001b[0;34m,\u001b[0m\u001b[0mH\u001b[0m\u001b[0;34m)\u001b[0m \u001b[0;32mfor\u001b[0m \u001b[0mk\u001b[0m \u001b[0;32min\u001b[0m \u001b[0mrange\u001b[0m\u001b[0;34m(\u001b[0m\u001b[0;36m0\u001b[0m\u001b[0;34m,\u001b[0m\u001b[0mN\u001b[0m\u001b[0;34m)\u001b[0m\u001b[0;34m]\u001b[0m\u001b[0;34m;\u001b[0m    \u001b[0mr\u001b[0m \u001b[0;34m=\u001b[0m \u001b[0mg\u001b[0m \u001b[0;34m+\u001b[0m \u001b[0;34m[\u001b[0m\u001b[0;36m0\u001b[0m\u001b[0;34m]\u001b[0m \u001b[0;34m+\u001b[0m \u001b[0mg\u001b[0m\u001b[0;34m[\u001b[0m\u001b[0;34m:\u001b[0m\u001b[0;34m:\u001b[0m\u001b[0;34m-\u001b[0m\u001b[0;36m1\u001b[0m\u001b[0;34m]\u001b[0m\u001b[0;34m[\u001b[0m\u001b[0;36m0\u001b[0m\u001b[0;34m:\u001b[0m\u001b[0mN\u001b[0m\u001b[0;34m-\u001b[0m\u001b[0;36m1\u001b[0m\u001b[0;34m]\u001b[0m\u001b[0;34m\u001b[0m\u001b[0;34m\u001b[0m\u001b[0m\n\u001b[1;32m     14\u001b[0m \u001b[0;34m\u001b[0m\u001b[0m\n",
      "\u001b[0;31mKeyboardInterrupt\u001b[0m: "
     ]
    }
   ],
   "source": [
    "#Example usage\n",
    "T=1\n",
    "N=100\n",
    "lam=1\n",
    "p=-3\n",
    "q=1\n",
    "MC=1000\n",
    "X0=0.1\n",
    "train_params(lam, p, q,T, N, MC, X0, lr=1e-1,epochs=200,print_every=5)"
   ]
  },
  {
   "cell_type": "markdown",
   "metadata": {},
   "source": [
    "## Using Cma.fmin"
   ]
  },
  {
   "cell_type": "code",
   "execution_count": null,
   "metadata": {},
   "outputs": [],
   "source": [
    "#Run these commands first for cma\n",
    "#pip install cma"
   ]
  },
  {
   "cell_type": "code",
   "execution_count": 270,
   "metadata": {},
   "outputs": [],
   "source": [
    "import cma"
   ]
  },
  {
   "cell_type": "code",
   "execution_count": 342,
   "metadata": {},
   "outputs": [],
   "source": [
    "def sigmoid(x):\n",
    "    return 1/(1+np.exp(-x))\n",
    "def transformation(x):\n",
    "    return np.array([sigmoid(x[0])*3,sigmoid(x[1])*(-4),1+sigmoid(x[2])*5]) , 0.1+sigmoid(x[3])*0.5"
   ]
  },
  {
   "cell_type": "code",
   "execution_count": null,
   "metadata": {},
   "outputs": [
    {
     "name": "stdout",
     "output_type": "stream",
     "text": [
      "(10_w,20)-aCMA-ES (mu_w=5.9,w_1=27%) in dimension 4 (seed=759552, Thu May  8 09:35:30 2025)\n",
      "Iterat #Fevals   function value  axis ratio  sigma  min&max std  t[m:s]\n",
      "    1     20 -5.627365193188845e+00 1.0e+00 1.51e+00  1e+00  2e+00 0:12.3\n",
      "    2     40 -2.301590059908729e+01 1.4e+00 2.59e+00  2e+00  3e+00 0:24.8\n",
      "    3     60 -2.309782631836755e+01 1.8e+00 3.29e+00  3e+00  4e+00 0:36.8\n",
      "    4     80 -2.301590059908731e+01 1.7e+00 4.40e+00  4e+00  5e+00 0:48.5\n",
      "    5    100 -2.301590357985635e+01 2.0e+00 4.35e+00  3e+00  5e+00 1:00.7\n",
      "    6    120 -2.301590059913166e+01 1.6e+00 3.54e+00  2e+00  4e+00 1:12.5\n",
      "    7    140 -2.340106624349684e+01 2.0e+00 3.28e+00  2e+00  3e+00 1:23.9\n",
      "    8    160 -2.301593332961305e+01 1.9e+00 3.17e+00  2e+00  3e+00 1:35.2\n",
      "    9    180 -2.357697695109155e+01 2.1e+00 3.48e+00  2e+00  4e+00 1:47.2\n",
      "   10    200 -2.301590060082529e+01 2.3e+00 2.78e+00  1e+00  3e+00 1:59.8\n",
      "   11    220 -2.308619067156852e+01 2.5e+00 2.95e+00  1e+00  3e+00 2:11.7\n",
      "   12    240 -2.321729802050851e+01 2.8e+00 2.53e+00  1e+00  2e+00 2:23.3\n",
      "   14    280 -2.301590153838072e+01 3.8e+00 2.09e+00  5e-01  2e+00 2:46.5\n",
      "   16    320 -2.310371913855571e+01 5.5e+00 2.04e+00  4e-01  2e+00 3:09.8\n",
      "   18    360 -2.310819998383671e+01 9.2e+00 1.73e+00  3e-01  2e+00 3:33.1\n"
     ]
    }
   ],
   "source": [
    "#Optim with cma\n",
    "def objective_np(vec):\n",
    "    theta,H =transformation(vec)      # your unpack‐and‐clip logic\n",
    "    return compute_objective(theta, H, 1, T, N, lam, p, q, X0, MC)\n",
    "\n",
    "# initial guess and step‐size\n",
    "x0 = np.array([0,0,-2, 0])\n",
    "\n",
    "res = cma.fmin(objective_np, x0, sigma0=1,\n",
    "               options={'maxiter':20, 'popsize':20})\n",
    "print(\"CMA‐ES result:\", res[0])\n",
    "print(transformation(x0))"
   ]
  },
  {
   "cell_type": "code",
   "execution_count": 345,
   "metadata": {},
   "outputs": [
    {
     "name": "stdout",
     "output_type": "stream",
     "text": [
      "lam,p,q= [ 2.03201514 -1.80196096  1.17975483] H= 0.40336960367326546\n"
     ]
    }
   ],
   "source": [
    "#Checking the found parameters\n",
    "sol = res[0]\n",
    "print(\"lam,p,q=\", np.array([sigmoid(sol[0])*3,sigmoid(sol[1])*(-2),1+sigmoid(sol[2])*3]), \"H=\", 0.1+sigmoid(sol[3])*0.5)"
   ]
  },
  {
   "cell_type": "markdown",
   "metadata": {},
   "source": [
    "# Using scipy.minimize"
   ]
  },
  {
   "cell_type": "code",
   "execution_count": 76,
   "metadata": {},
   "outputs": [
    {
     "name": "stdout",
     "output_type": "stream",
     "text": [
      "Warning: Maximum number of iterations has been exceeded.\n",
      "Nelder‐Mead result: [ 2.3437500e-05  3.2421875e-04 -1.9390625e+00 -1.4453125e-04]\n"
     ]
    }
   ],
   "source": [
    "#Optim with scipy minimize\n",
    "from scipy.optimize import minimize\n",
    "\n",
    "res = minimize(objective_np, x0, method='Nelder-Mead',\n",
    "               options={'maxiter':10, 'disp':True})\n",
    "print(\"Nelder‐Mead result:\", res.x)"
   ]
  },
  {
   "cell_type": "code",
   "execution_count": 77,
   "metadata": {},
   "outputs": [
    {
     "data": {
      "text/plain": [
       "(array([ 1.50001758, -1.00016211,  1.37725266]), 0.34998193359378144)"
      ]
     },
     "execution_count": 77,
     "metadata": {},
     "output_type": "execute_result"
    }
   ],
   "source": [
    "sol = res.x\n",
    "np.array([sigmoid(sol[0])*3,sigmoid(sol[1])*(-2),1+sigmoid(sol[2])*3]), 0.1+sigmoid(sol[3])*0.5"
   ]
  },
  {
   "cell_type": "code",
   "execution_count": 347,
   "metadata": {},
   "outputs": [
    {
     "name": "stdout",
     "output_type": "stream",
     "text": [
      "0.5579146367956936\n"
     ]
    },
    {
     "data": {
      "image/png": "[encoded data removed]",
      "text/plain": [
       "<Figure size 432x288 with 1 Axes>"
      ]
     },
     "metadata": {
      "needs_background": "light"
     },
     "output_type": "display_data"
    }
   ],
   "source": [
    "#Looking at the density with the found parameters\n",
    "lam, p, q= 1, -3, 1\n",
    "x       = np.linspace(0, 1, 100) \n",
    "theta, H = np.array([ 2.03201514, -1.80196096,  1.17975483]), 0.40336960367326546 #plug your parameters here\n",
    "density_est, Y_final, X_final_normed = estimate_density(theta, H, 1, T, N, X0, MC)\n",
    "#Example of plot\n",
    "#print(Y_final.min())\n",
    "plt.hist(Y_final, bins=20, density=True, alpha=0.3, label='Histogram')\n",
    "samples = metropolis_sampler(log_g, X0, n_samples=10000, step=0.5, args=(lam, p, q, X0))\n",
    "plt.hist(sigmoid(samples), bins=20, density=True, alpha=0.6, label='MCMC samples')\n",
    "plt.xlabel('x')\n",
    "plt.ylabel('Density')\n",
    "plt.legend()\n",
    "plt.show()"
   ]
  },
  {
   "cell_type": "code",
   "execution_count": null,
   "metadata": {},
   "outputs": [],
   "source": []
  },
  {
   "cell_type": "code",
   "execution_count": null,
   "metadata": {},
   "outputs": [],
   "source": []
  },
  {
   "cell_type": "code",
   "execution_count": null,
   "metadata": {},
   "outputs": [],
   "source": []
  }
 ],
 "metadata": {
  "kernelspec": {
   "display_name": "Python [conda env:base] *",
   "language": "python",
   "name": "conda-base-py"
  },
  "language_info": {
   "codemirror_mode": {
    "name": "ipython",
    "version": 3
   },
   "file_extension": ".py",
   "mimetype": "text/x-python",
   "name": "python",
   "nbconvert_exporter": "python",
   "pygments_lexer": "ipython3",
   "version": "3.8.5"
  }
 },
 "nbformat": 4,
 "nbformat_minor": 4
}
