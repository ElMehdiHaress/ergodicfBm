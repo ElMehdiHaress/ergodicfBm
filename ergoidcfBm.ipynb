{
 "cells": [
  {
   "cell_type": "markdown",
   "metadata": {},
   "source": [
    "# SDE Simulation Driven by Fractional Brownian Motion\n",
    "- We define:\n",
    "  1. `generate_fbm(T, N, H)` → fBm path\n",
    "  2. `compute_increments(path)` → ΔB\n",
    "  3. `simulate_sde_fbm(theta, H, sigma, T, N, X0)` → time grid, X path\n",
    "  4. `plot_path(times, X, H, sigma)` → visualization\n"
   ]
  },
  {
   "cell_type": "code",
   "execution_count": 1,
   "metadata": {},
   "outputs": [],
   "source": [
    "#Imports\n",
    "import numpy as np\n",
    "import matplotlib.pyplot as plt\n",
    "np.float = float\n",
    "# assume these are provided elsewhere:\n",
    "# from some_module import fBm, drift\n"
   ]
  },
  {
   "cell_type": "code",
   "execution_count": 2,
   "metadata": {},
   "outputs": [],
   "source": [
    "#fBm helper functions\n",
    "\n",
    "def fBm(T, N, H):\n",
    "    '''\n",
    "    Generates sample paths of fractional Brownian Motion using the Davies Harte method\n",
    "    \n",
    "    args:\n",
    "        T:      length of time (in years)\n",
    "        N:      number of time steps within timeframe\n",
    "        H:      Hurst parameter\n",
    "    '''\n",
    "    gamma = lambda k,H: 0.5*(np.abs(k-1)**(2*H) - 2*np.abs(k)**(2*H) + np.abs(k+1)**(2*H))  \n",
    "    g = [gamma(k,H) for k in range(0,N)];    r = g + [0] + g[::-1][0:N-1]\n",
    "\n",
    "    # Step 1 (eigenvalues)\n",
    "    j = np.arange(0,2*N);   k = 2*N-1\n",
    "    lk = np.fft.fft(r*np.exp(2*np.pi*complex(0,1)*k*j*(1/(2*N))))[::-1]\n",
    "\n",
    "    # Step 2 (get random variables)\n",
    "    Vj = np.zeros((2*N,2), dtype=np.complex128); \n",
    "    Vj[0,0] = np.random.standard_normal();  Vj[N,0] = np.random.standard_normal()\n",
    "    \n",
    "    for i in range(1,N):\n",
    "        Vj1 = np.random.standard_normal();    Vj2 = np.random.standard_normal()\n",
    "        Vj[i][0] = Vj1; Vj[i][1] = Vj2; Vj[2*N-i][0] = Vj1;    Vj[2*N-i][1] = Vj2\n",
    "    \n",
    "    # Step 3 (compute Z)\n",
    "    wk = np.zeros(2*N, dtype=np.complex128)   \n",
    "    wk[0] = np.sqrt((lk[0]/(2*N)))*Vj[0][0];          \n",
    "    wk[1:N] = np.sqrt(lk[1:N]/(4*N))*((Vj[1:N].T[0]) + (complex(0,1)*Vj[1:N].T[1]))       \n",
    "    wk[N] = np.sqrt((lk[0]/(2*N)))*Vj[N][0]       \n",
    "    wk[N+1:2*N] = np.sqrt(lk[N+1:2*N]/(4*N))*(np.flip(Vj[1:N].T[0]) - (complex(0,1)*np.flip(Vj[1:N].T[1])))\n",
    "    \n",
    "    Z = np.fft.fft(wk);     fGn = Z[0:N] \n",
    "    fBm = np.cumsum(fGn)*(N**(-H))\n",
    "    fBm = (T**H)*(fBm)\n",
    "    path = np.array([0] + list(fBm))\n",
    "    return path.real\n",
    "\n",
    "\n",
    "def generate_fbm(T, N, H, MC=1):\n",
    "    \"\"\"\n",
    "    Generate a fractional Brownian motion path of Hurst H on [0, T].\n",
    "    \n",
    "    Returns:\n",
    "        times: np.ndarray of shape (N,)\n",
    "        B:     np.ndarray of shape (N,)\n",
    "    \"\"\"\n",
    "    times = np.linspace(0, T, N)\n",
    "    B = np.empty((N+1,MC))\n",
    "    for i in range(MC):\n",
    "        B[:,i] = fBm(T, N, H)\n",
    "    return times, B\n",
    "\n",
    "def compute_increments(path):\n",
    "    \"\"\"\n",
    "    Compute discrete increments ΔB[k] = path[k+1] - path[k].\n",
    "    \n",
    "    Returns:\n",
    "        increments: np.ndarray of shape (len(path)-1,)\n",
    "    \"\"\"\n",
    "    return np.diff(path)\n"
   ]
  },
  {
   "cell_type": "code",
   "execution_count": 3,
   "metadata": {},
   "outputs": [],
   "source": [
    "#Core simulation function\n",
    "#theta= lam, p, q\n",
    "def drift1(theta):\n",
    "    return lambda x: (theta[0])*x*((np.abs(x)+1e-8)**(theta[1]))\n",
    "def drift2(theta):\n",
    "    return lambda x: - x*(np.abs(x)**theta[2])\n",
    "\n",
    "def simulate_sde_fbm(theta, H, sigma, T, N, X0, MC=1):\n",
    "    \"\"\"\n",
    "    Simulate X_t via Euler scheme:\n",
    "        dX_t = b_theta(X_t) dt + sigma dB^H_t\n",
    "    \n",
    "    Args:\n",
    "        theta: parameter(s) for the drift\n",
    "        H:     Hurst exponent of the fBm\n",
    "        sigma: noise coefficient\n",
    "        T:     time horizon\n",
    "        N:     number of discretization points\n",
    "        X0:    initial condition\n",
    "        MC: Monte Carlo parameter\n",
    "    \n",
    "    Returns:\n",
    "        times: np.ndarray of shape (N,)\n",
    "        X:     np.ndarray of shape (N,)\n",
    "    \"\"\"\n",
    "    # Drift function\n",
    "    b1 = drift1(theta)\n",
    "    b2 = drift2(theta) \n",
    "    \n",
    "    # Generate fBm and increments\n",
    "    times, B = generate_fbm(T, N, H, MC)\n",
    "    dB = np.empty((N,MC))\n",
    "    for i in range(MC):\n",
    "        #print(B[:,i].size) (this is just for debugging)\n",
    "        dB[:,i] = compute_increments(B[:,i])\n",
    "    #print(dB.size)  #debugging  \n",
    "    dt = times[1] - times[0]\n",
    "    #print(dt)\n",
    "    # Prepare solution array\n",
    "    X = np.empty((N,MC))\n",
    "    X[0] = X0\n",
    "    for k in range(N - 1):\n",
    "        if theta[1]>=0:\n",
    "            X[k+1,:] = X[k,:] +  (b2(X[k,:])*dt) / ( 1+ dt*np.abs(b2(X[k,:])) ) +  sigma * dB[k,:] #taming the superlinearity\n",
    "            #X[k+1,:] = X[k,:] + b1(X[k,:]) * dt + (b2(X[k,:])(1+dt*np.abs(b2(X[k,:])))) *dt+  sigma * dB[k,:] #simple euler scheme\n",
    "            #print(X[k+1,:].min())\n",
    "        if theta[1]<0:\n",
    "            X[k+1,:] = X[k,:] + b1(X[k,:]) / (1+dt*np.abs(b1(X[k,:]))) * dt + ( b2(X[k,:]) / ( 1+ dt*np.abs(b2(X[k,:])) ) )*dt +  sigma * dB[k,:] #taming the superlinearity\n",
    "    \n",
    "    X_final = np.clip(X[N-1,:],-5,5)\n",
    "    return times, X, X_final\n",
    "\n"
   ]
  },
  {
   "cell_type": "code",
   "execution_count": 4,
   "metadata": {},
   "outputs": [],
   "source": [
    "#Plotting helper\n",
    "\n",
    "def plot_path(times, X, H=None, sigma=None):\n",
    "    \"\"\"\n",
    "    Plot the simulated path X over times.\n",
    "    \"\"\"\n",
    "    plt.figure(figsize=(8,4))\n",
    "    plt.plot(times, X, label=r'$X_t$')\n",
    "    plt.xlabel('Time')\n",
    "    plt.ylabel('X')\n",
    "    title = 'SDE Path'\n",
    "    if H is not None and sigma is not None:\n",
    "        title += f' (H={H}, σ={sigma})'\n",
    "    plt.title(title)\n",
    "    plt.legend()\n",
    "    plt.tight_layout()\n",
    "    plt.show()\n"
   ]
  },
  {
   "cell_type": "code",
   "execution_count": 20,
   "metadata": {},
   "outputs": [
    {
     "name": "stdout",
     "output_type": "stream",
     "text": [
      "1.6804043617223707\n"
     ]
    },
    {
     "data": {
      "text/plain": [
       "(array([ 8., 12., 11.,  7., 10.,  9., 12., 12., 15.,  4.]),\n",
       " array([-1.59320008, -1.26583964, -0.93847919, -0.61111875, -0.2837583 ,\n",
       "         0.04360214,  0.37096258,  0.69832303,  1.02568347,  1.35304392,\n",
       "         1.68040436]),\n",
       " <BarContainer object of 10 artists>)"
      ]
     },
     "execution_count": 20,
     "metadata": {},
     "output_type": "execute_result"
    },
    {
     "data": {
      "image/png": "[encoded data removed]",
      "text/plain": [
       "<Figure size 432x288 with 1 Axes>"
      ]
     },
     "metadata": {
      "needs_background": "light"
     },
     "output_type": "display_data"
    }
   ],
   "source": [
    "# Example usage\n",
    "\n",
    "# parameters\n",
    "theta = np.array([1,-1,2])  # your drift parameter(s)\n",
    "H     = 0.3\n",
    "sigma = 1\n",
    "T     = 10\n",
    "N     = 1000\n",
    "X0    = 1\n",
    "MC    = 100\n",
    "\n",
    "# simulate\n",
    "times, X, X_final = simulate_sde_fbm(theta, H, sigma, T, N, X0, MC)\n",
    "\n",
    "# visualize\n",
    "#plot_path(times, X, H, sigma)\n",
    "print(X_final.max())\n",
    "plt.hist(X_final)"
   ]
  },
  {
   "cell_type": "markdown",
   "metadata": {},
   "source": [
    "# density simulation at time T\n",
    "- We define:\n",
    "  1.`estimate_density — runs the SDE simulation to simulate the density"
   ]
  },
  {
   "cell_type": "code",
   "execution_count": 21,
   "metadata": {},
   "outputs": [],
   "source": [
    "def sigmoid(x):\n",
    "    return 1/(1+np.exp(-x))\n",
    "def inv_sigmoid(x):\n",
    "    return np.log(x)-np.log(1-x)"
   ]
  },
  {
   "cell_type": "markdown",
   "metadata": {},
   "source": [
    "$1/N \\sum (f(X_i)-g(X_i))^2 / (1+f(X_i)) \\rightarrow \\int |f(x)-g(x)|^2 \\times f(x)/(1+f(x))$ "
   ]
  },
  {
   "cell_type": "code",
   "execution_count": 22,
   "metadata": {},
   "outputs": [],
   "source": [
    "from sklearn.neighbors import KernelDensity\n",
    "def estimate_density(theta, H, sigma, T, N, X0=0 ,MC=1):\n",
    "    \"\"\"\n",
    "    Simulate one path of the SDE and estimate the density at the array x\n",
    "    Args:\n",
    "      theta    : parameters for the drift\n",
    "      H        : Hurst exponent\n",
    "      sigma    : noise coefficient\n",
    "      T        : time horizon\n",
    "      N        : number of points\n",
    "      X0       : initial value (default 0)\n",
    "      \n",
    "    Returns:\n",
    "      density_est  : float, the estimated f(X_T)\n",
    "      Y_final : transformed X_T via sigmoid\n",
    "      X_final-X0 : X_T-X_0\n",
    "    \"\"\"\n",
    "    # 1. simulate the path\n",
    "    times, X, X_final = simulate_sde_fbm(theta, H, sigma, T, N, X0, MC)\n",
    "    Y_final = sigmoid(X_final) #for simplicity, i'm always taking the image of the densities by a sigmoid\n",
    "    #print(X_final) #debugging\n",
    "    #print(Y_final.max(),Y_final.min())\n",
    "    Y_final_kde = np.asarray(Y_final)[:, None]\n",
    "    \n",
    "    #2. estimate the density with a gaussian kernel\n",
    "    kde = KernelDensity(kernel='gaussian', bandwidth=0.2).fit(Y_final_kde)\n",
    "    \n",
    "    sigma_prime = Y_final*(1-Y_final)\n",
    "    \n",
    "    density_est = np.exp(kde.score_samples(np.asarray(Y_final)[:, None]))\n",
    "    \n",
    "    density_est = density_est * sigma_prime\n",
    "    \n",
    "    density_est = np.clip(density_est, 1e-10, np.inf)\n",
    "    \n",
    "    return density_est, Y_final, X_final"
   ]
  },
  {
   "cell_type": "code",
   "execution_count": 42,
   "metadata": {},
   "outputs": [],
   "source": [
    "#Example usage\n",
    "\n",
    "theta   = np.array([3.        , -4.99999998,  2.89381672])#np.array([1,-3,1])      # your drift parameter(s)\n",
    "H       = 0.5\n",
    "sigma   = 1\n",
    "T       = 1.0      # longer horizon to approximate stationarity\n",
    "N       = 1000\n",
    "X0      = 0.1\n",
    "MC      = 100\n",
    "\n",
    "density_est, Y_final, X_final = estimate_density(theta, H, sigma, T, N, X0, MC)\n",
    "#print(f\"Estimated density f({x}) = {density_est}\")"
   ]
  },
  {
   "cell_type": "code",
   "execution_count": 43,
   "metadata": {},
   "outputs": [
    {
     "data": {
      "image/png": "[encoded data removed]",
      "text/plain": [
       "<Figure size 432x288 with 1 Axes>"
      ]
     },
     "metadata": {
      "needs_background": "light"
     },
     "output_type": "display_data"
    }
   ],
   "source": [
    "#Example of plot\n",
    "#plt.plot(x-X0, density_est, label=f'KDE (bw={0.2})')\n",
    "plt.hist(Y_final, density=True, alpha=0.3, label='Histogram')\n",
    "plt.xlabel('x')\n",
    "plt.ylabel('Density')\n",
    "plt.legend()\n",
    "plt.show()"
   ]
  },
  {
   "cell_type": "markdown",
   "metadata": {},
   "source": [
    "# Target density"
   ]
  },
  {
   "cell_type": "code",
   "execution_count": 26,
   "metadata": {},
   "outputs": [],
   "source": [
    "#Custom density function\n",
    "\n",
    "import numpy as np\n",
    "\n",
    "def custom_density(x, lam, p, q):\n",
    "    \"\"\"\n",
    "    Compute the (unnormalized) density\n",
    "        f(x) = exp( - (λ/p) * |x|^p  -  (1/q) * |x|^q )\n",
    "    \n",
    "    Args:\n",
    "        x   : float or array-like\n",
    "        lam : positive float, the λ parameter\n",
    "        p   : positive float exponent for the first term\n",
    "        q   : positive float exponent for the second term\n",
    "    \n",
    "    Returns:\n",
    "        float or np.ndarray of same shape as x\n",
    "    \"\"\"\n",
    "    x = np.asarray(x)\n",
    "    return np.exp( (lam / p) * np.abs(x)**p\n",
    "                  - (1.0  / q) * np.abs(x)**q)\n",
    "\n",
    "def log_g(x, lam, p, q):\n",
    "    \"\"\"Unnormalized log-density: log g(x)\"\"\"\n",
    "    x = float(x)\n",
    "    return (lam / p) * np.abs(x)**p - (1.0 / q) * np.abs(x)**q\n",
    "\n",
    "def metropolis_sampler(log_g, x0, n_samples, step=1.0, burn=1000, args=()):\n",
    "    \"\"\"\n",
    "    Metropolis-Hastings sampler from a 1D log-density.\n",
    "    \n",
    "    Args:\n",
    "        log_g      : function(x, *args) → log density (unnormalized)\n",
    "        x0         : float, initial point\n",
    "        n_samples  : number of samples to return (after burn-in)\n",
    "        step       : proposal std dev (tuning parameter)\n",
    "        burn       : number of burn-in steps to discard\n",
    "        args       : extra arguments for log_g (e.g. lam, p, q, X0)\n",
    "\n",
    "    Returns:\n",
    "        np.ndarray of shape (n_samples,)\n",
    "    \"\"\"\n",
    "    samples = []\n",
    "    x = x0\n",
    "    total = burn + n_samples\n",
    "\n",
    "    for i in range(total):\n",
    "        x_prop = np.random.normal(0, step)\n",
    "        log_accept_ratio = log_g(x_prop, *args) - log_g(x, *args)\n",
    "        if np.log(np.random.rand()) < log_accept_ratio:\n",
    "            x = x_prop\n",
    "        if i >= burn:\n",
    "            samples.append(x)\n",
    "\n",
    "    return np.array(samples)\n"
   ]
  },
  {
   "cell_type": "code",
   "execution_count": 27,
   "metadata": {},
   "outputs": [
    {
     "data": {
      "text/plain": [
       "[<matplotlib.lines.Line2D at 0x7fa3a8ec8f40>]"
      ]
     },
     "execution_count": 27,
     "metadata": {},
     "output_type": "execute_result"
    },
    {
     "data": {
      "image/png": "[encoded data removed]",
      "text/plain": [
       "<Figure size 432x288 with 1 Axes>"
      ]
     },
     "metadata": {
      "needs_background": "light"
     },
     "output_type": "display_data"
    }
   ],
   "source": [
    "# scalar example\n",
    "#print(custom_density(0.5, lam=2.0, p=4, q=6))\n",
    "\n",
    "# vector example\n",
    "xs = np.linspace(-2, 2, 100)\n",
    "fs = custom_density(xs, lam=1, p=-2, q=2)\n",
    "plt.plot(xs,fs, color='r')"
   ]
  },
  {
   "cell_type": "code",
   "execution_count": 28,
   "metadata": {},
   "outputs": [
    {
     "name": "stderr",
     "output_type": "stream",
     "text": [
      "<ipython-input-26-d961e99dd477>:26: RuntimeWarning: divide by zero encountered in scalar power\n",
      "  return (lam / p) * np.abs(x)**p - (1.0 / q) * np.abs(x)**q\n"
     ]
    },
    {
     "data": {
      "image/png": "[encoded data removed]",
      "text/plain": [
       "<Figure size 432x288 with 1 Axes>"
      ]
     },
     "metadata": {
      "needs_background": "light"
     },
     "output_type": "display_data"
    }
   ],
   "source": [
    "# Parameters\n",
    "lam = 1.0\n",
    "p = -2\n",
    "q = 2\n",
    "#X0 = 0.1\n",
    "\n",
    "# Run sampler\n",
    "samples = metropolis_sampler(log_g, x0=0.0, n_samples=10000, step=0.5, args=(lam, p, q,))\n",
    "\n",
    "# Plot the result\n",
    "plt.hist(sigmoid(samples), bins=20, density=True, alpha=0.6, label='MCMC samples')\n",
    "plt.hist(Y_final, density=True, alpha=0.3, label='Histogram of X_T')\n",
    "plt.title(\"Samples from $g(x) \\propto \\\\exp(\\\\lambda/p |x|^p - 1/q |x|^q)$\")\n",
    "plt.xlabel('x')\n",
    "plt.legend()\n",
    "plt.show()"
   ]
  },
  {
   "cell_type": "markdown",
   "metadata": {},
   "source": [
    "### Objective function"
   ]
  },
  {
   "cell_type": "code",
   "execution_count": 29,
   "metadata": {},
   "outputs": [],
   "source": [
    "def compute_objective(theta, H, sigma, T, N, lam, p, q, X0, MC):\n",
    "    \"\"\"\n",
    "    Compute the objective\n",
    "        1/n * Σ_i (density_est(x_i)-custom_density(x_i))**2 / density_est(x_i)\n",
    "    where:\n",
    "      - density_est(x_i) is returned by estimate_density(...)\n",
    "\n",
    "    Args:\n",
    "        theta     : parameter(s) for the drift\n",
    "        H         : Hurst exponent\n",
    "        sigma     : noise coefficient\n",
    "        T         : time horizon\n",
    "        N         : number of time-steps\n",
    "        lam, p, q : parameters of the unnormalized density p(x)\n",
    "        X0        : initial condition for SDE (default 0)\n",
    "\n",
    "    Returns:\n",
    "        float : the computed objective value\n",
    "    \"\"\"    \n",
    "    # estimate_density \n",
    "    density_est, y_final, x_final = estimate_density(theta, H, sigma, T, N, X0, MC)\n",
    "    \n",
    "    term1 = np.array(density_est)\n",
    "    #print(term1)\n",
    "    # 2) Compute custom_density\n",
    "    term2 = custom_density(x_final, lam, p, q)\n",
    "    \n",
    "    integrand = (term1 - term2)**2 / term1\n",
    "    return np.log(integrand.mean() + 1e-12)"
   ]
  },
  {
   "cell_type": "code",
   "execution_count": 30,
   "metadata": {},
   "outputs": [
    {
     "data": {
      "text/plain": [
       "-1.8413143199364683"
      ]
     },
     "execution_count": 30,
     "metadata": {},
     "output_type": "execute_result"
    }
   ],
   "source": [
    "#Example usage\n",
    "compute_objective(np.array([1, -2.,  5.]), 0.2, 1, 1, 1000, 1, -2, 2, 0.1, 100)"
   ]
  },
  {
   "cell_type": "markdown",
   "metadata": {},
   "source": [
    "# Optimisation procedure"
   ]
  },
  {
   "cell_type": "code",
   "execution_count": 31,
   "metadata": {},
   "outputs": [],
   "source": [
    "#Run these commands first for pytorch\n",
    "#conda install nb_conda \n",
    "#conda install ipykernel \n",
    "#%pip install torch torchvision torchaudio --extra-index-url https://download.pytorch.org/whl/cu113 #download package needeed for optim"
   ]
  },
  {
   "cell_type": "code",
   "execution_count": 32,
   "metadata": {},
   "outputs": [],
   "source": [
    "import torch\n",
    "from torch.optim import SGD"
   ]
  },
  {
   "cell_type": "markdown",
   "metadata": {},
   "source": [
    "## Torch‐wrapped Adam loop"
   ]
  },
  {
   "cell_type": "code",
   "execution_count": 33,
   "metadata": {},
   "outputs": [],
   "source": [
    "def train_params(\n",
    "    lam, p, q,\n",
    "    T, N, MC,      # hyper‐parameters for simulatio,\n",
    "    X0=0.1,  # for estimate_local_density\n",
    "    lr=1e-2,\n",
    "    epochs=200,\n",
    "    print_every=10\n",
    "):\n",
    "    \"\"\"\n",
    "    Fit (theta, H) by minimizing the black‐box objective\n",
    "      compute_objective(theta,H,sigma, T, N, x_points, lam,p,q,X0)\n",
    "    via a torch‐wrapped Adam loop.\n",
    "    \"\"\"\n",
    "    # 1) initialize torch parameters\n",
    "    #    - θ : take whatever shape you like; here we assume a 1‐D vector of length d\n",
    "    d = 3  # << your drift‐param dimensionality >>\n",
    "    theta = torch.randn(d, requires_grad=True)\n",
    "    H_raw = torch.randn((), requires_grad=True)      # unconstrained\n",
    "    #sigma_raw = torch.randn((), requires_grad=True)  # unconstrained\n",
    "\n",
    "    #optimizer = torch.optim.Adam([theta, H_raw], lr=lr)\n",
    "    optimizer = SGD([theta, H_raw],\n",
    "                lr=1e-2, momentum=0.9, nesterov=True)\n",
    "\n",
    "    for epoch in range(1, epochs+1):\n",
    "        optimizer.zero_grad()\n",
    "\n",
    "        # 2) map raw → valid\n",
    "        H     = torch.sigmoid(H_raw).item()   # in (0,1)\n",
    "        #sigma = torch.exp(sigma_raw).item()   # >0\n",
    "        theta_np = theta.detach().cpu().numpy()\n",
    "\n",
    "        # 4) evaluate black‐box loss\n",
    "        obj_val = compute_objective(\n",
    "            theta_np, H, 1,\n",
    "            T, N,\n",
    "            lam, p, q, X0=X0,MC=MC\n",
    "        )\n",
    "        loss = torch.tensor(obj_val, dtype=torch.float32, requires_grad=True)\n",
    "\n",
    "        # 5) backward + step  (zero‐order!)\n",
    "        loss.backward()\n",
    "        optimizer.step()\n",
    "\n",
    "        if epoch % print_every == 0:\n",
    "            print(f\"[{epoch:4d}/{epochs}] loss = {obj_val:.6f}\")\n",
    "\n",
    "    # unpack final values\n",
    "    return {\n",
    "        \"theta\": theta.detach().cpu().numpy(),\n",
    "        \"H\":     torch.sigmoid(H_raw).item(),\n",
    "        #\"sigma\": torch.exp(sigma_raw).item()\n",
    "    }\n"
   ]
  },
  {
   "cell_type": "code",
   "execution_count": 34,
   "metadata": {},
   "outputs": [],
   "source": [
    "#Example usage\n",
    "T=1\n",
    "N=100\n",
    "lam=1\n",
    "p=-2\n",
    "q=2\n",
    "MC=1000\n",
    "X0=0.1\n",
    "#train_params(lam, p, q,T, N, MC, X0, lr=1e-1,epochs=200,print_every=5)"
   ]
  },
  {
   "cell_type": "markdown",
   "metadata": {},
   "source": [
    "## Using Cma.fmin"
   ]
  },
  {
   "cell_type": "code",
   "execution_count": 35,
   "metadata": {},
   "outputs": [],
   "source": [
    "#Run these commands first for cma\n",
    "#pip install cma"
   ]
  },
  {
   "cell_type": "code",
   "execution_count": 36,
   "metadata": {},
   "outputs": [],
   "source": [
    "import cma"
   ]
  },
  {
   "cell_type": "code",
   "execution_count": 55,
   "metadata": {},
   "outputs": [],
   "source": [
    "def sigmoid(x):\n",
    "    return 1/(1+np.exp(-x))\n",
    "def transformation(x):\n",
    "    return np.array([sigmoid(x[0])*3,sigmoid(x[1])*(-5),1+sigmoid(x[2])*5]), sigmoid(x[3])/2"
   ]
  },
  {
   "cell_type": "code",
   "execution_count": 56,
   "metadata": {},
   "outputs": [
    {
     "data": {
      "text/plain": [
       "5.5"
      ]
     },
     "execution_count": 56,
     "metadata": {},
     "output_type": "execute_result"
    }
   ],
   "source": [
    "# p+1 > 1/2 -1/(2H)\n",
    "1/2 +1/(2 * 0.1)"
   ]
  },
  {
   "cell_type": "code",
   "execution_count": 58,
   "metadata": {},
   "outputs": [
    {
     "name": "stdout",
     "output_type": "stream",
     "text": [
      "[ 0.93007656 -2.12778742  5.08787238]\n"
     ]
    }
   ],
   "source": [
    "#Optim with cma\n",
    "def objective_np(vec):\n",
    "    theta,H =transformation(vec)      # your unpack‐and‐clip logic\n",
    "    return compute_objective(theta, H, 1, T, N, lam, p, q, X0, MC)\n",
    "\n",
    "def objective_H(vec):\n",
    "    theta,_ =transformation(vec)      # your unpack‐and‐clip logic\n",
    "    return compute_objective(theta, 0.1, 1, T, N, lam, p, q, X0, MC)\n",
    "\n",
    "# initial guess and step‐size\n",
    "x0 = np.array([-0.8,-0.3,1.5, -1])\n",
    "theta,_= transformation(x0)\n",
    "print(theta)"
   ]
  },
  {
   "cell_type": "code",
   "execution_count": 61,
   "metadata": {},
   "outputs": [
    {
     "name": "stdout",
     "output_type": "stream",
     "text": [
      "(15_w,30)-aCMA-ES (mu_w=8.6,w_1=20%) in dimension 4 (seed=306494, Tue May 13 11:20:43 2025)\n",
      "Iterat #Fevals   function value  axis ratio  sigma  min&max std  t[m:s]\n",
      "    1     30 -2.269696194774461e+00 1.0e+00 1.22e+00  1e+00  2e+00 0:31.5\n",
      "    2     60 -2.386629462148532e+00 1.8e+00 1.98e+00  2e+00  3e+00 1:02.4\n",
      "    3     90 -2.483414952253486e+00 2.5e+00 2.78e+00  2e+00  4e+00 1:33.7\n",
      "    4    120 -2.544180754128326e+00 2.5e+00 3.50e+00  3e+00  6e+00 2:04.8\n",
      "    5    150 -2.539219120679689e+00 2.8e+00 3.97e+00  3e+00  6e+00 2:35.0\n",
      "    6    180 -2.629100072566633e+00 3.4e+00 3.75e+00  2e+00  5e+00 3:05.4\n",
      "    7    210 -2.677815859159422e+00 3.1e+00 3.85e+00  2e+00  5e+00 3:35.9\n",
      "    8    240 -2.517607040389788e+00 3.0e+00 3.66e+00  2e+00  5e+00 4:06.5\n",
      "    9    270 -2.534208379001431e+00 3.6e+00 3.55e+00  2e+00  5e+00 4:36.7\n",
      "   10    300 -2.702813583240436e+00 3.9e+00 3.21e+00  1e+00  3e+00 5:07.4\n",
      "termination on maxiter=10 (Tue May 13 11:25:52 2025)\n",
      "final/bestever f-value = -2.426248e+00 -2.702814e+00 after 301/285 evaluations\n",
      "incumbent solution: [-2.796441690990036, 7.342424219182548, -10.806358314031437, -1.3789168889835555]\n",
      "std deviation: [1.1948119015134224, 2.182971734046592, 3.4000853682774452, 2.446810289939359]\n",
      "CMA‐ES result: [-1.54814444  7.87283923 -8.67336985 -2.29729272]\n"
     ]
    }
   ],
   "source": [
    "res = cma.fmin(objective_H, x0, sigma0=1,\n",
    "               options={'maxiter':10, 'popsize':30})\n",
    "print(\"CMA‐ES result:\", res[0])"
   ]
  },
  {
   "cell_type": "code",
   "execution_count": 62,
   "metadata": {},
   "outputs": [
    {
     "name": "stdout",
     "output_type": "stream",
     "text": [
      "estimated lam,p,q and H are (array([ 0.52606329, -4.99809597,  1.00085526]), 0.04567371254571758)\n",
      "tru parameters lam,p,q are 1 -2 2\n"
     ]
    }
   ],
   "source": [
    "#Checking the found parameters\n",
    "sol = res[0]\n",
    "print(\"estimated lam,p,q and H are\", transformation(sol))\n",
    "print(\"tru parameters lam,p,q are\", lam, p, q)"
   ]
  },
  {
   "cell_type": "code",
   "execution_count": 67,
   "metadata": {},
   "outputs": [],
   "source": [
    "#Looking at the density with the found parameters\n",
    "def test_param(sol):\n",
    "    theta, H = transformation(sol) #plug your parameters here\n",
    "    density_est, Y_final, X_final = estimate_density(theta, H, 1, T, N, X0, MC)\n",
    "    #Example of plot\n",
    "    #print(Y_final.min())\n",
    "    plt.hist(Y_final, bins=20, density=True, alpha=0.3, label='Histogram')\n",
    "    samples = metropolis_sampler(log_g, x0=0.0, n_samples=10000, step=0.5, args=(lam, p, q))\n",
    "    plt.hist(sigmoid(samples), bins=20, density=True, alpha=0.6, label='MCMC samples')\n",
    "    plt.xlabel('x')\n",
    "    plt.ylabel('Density')\n",
    "    plt.legend()\n",
    "    plt.show()"
   ]
  },
  {
   "cell_type": "code",
   "execution_count": 68,
   "metadata": {},
   "outputs": [
    {
     "name": "stderr",
     "output_type": "stream",
     "text": [
      "<ipython-input-26-d961e99dd477>:26: RuntimeWarning: divide by zero encountered in scalar power\n",
      "  return (lam / p) * np.abs(x)**p - (1.0 / q) * np.abs(x)**q\n"
     ]
    },
    {
     "data": {
      "image/png": "[encoded data removed]",
      "text/plain": [
       "<Figure size 432x288 with 1 Axes>"
      ]
     },
     "metadata": {
      "needs_background": "light"
     },
     "output_type": "display_data"
    }
   ],
   "source": [
    "test_param(sol)"
   ]
  },
  {
   "cell_type": "markdown",
   "metadata": {},
   "source": [
    "## To try later: CMA with bounds"
   ]
  },
  {
   "cell_type": "code",
   "execution_count": null,
   "metadata": {},
   "outputs": [],
   "source": [
    "#Try with bounds on the parameters\n",
    "lower_bounds = []\n",
    "upper_bounds = []\n",
    "res = cma.fmin(objective_np, x0, sigma0=1, \n",
    "               options={'maxiter':20, 'popsize':30, 'bounds': [lower_bounds, upper_bounds]})\n",
    "print(\"CMA‐ES result:\", res[0])"
   ]
  },
  {
   "cell_type": "code",
   "execution_count": null,
   "metadata": {},
   "outputs": [],
   "source": []
  },
  {
   "cell_type": "code",
   "execution_count": null,
   "metadata": {},
   "outputs": [],
   "source": []
  }
 ],
 "metadata": {
  "kernelspec": {
   "display_name": "Python [conda env:base] *",
   "language": "python",
   "name": "conda-base-py"
  },
  "language_info": {
   "codemirror_mode": {
    "name": "ipython",
    "version": 3
   },
   "file_extension": ".py",
   "mimetype": "text/x-python",
   "name": "python",
   "nbconvert_exporter": "python",
   "pygments_lexer": "ipython3",
   "version": "3.8.5"
  }
 },
 "nbformat": 4,
 "nbformat_minor": 4
}
